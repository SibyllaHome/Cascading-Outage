{
 "cells": [
  {
   "cell_type": "code",
   "execution_count": 38,
   "metadata": {},
   "outputs": [],
   "source": [
    "import re\n",
    "import numpy as np"
   ]
  },
  {
   "cell_type": "code",
   "execution_count": 50,
   "metadata": {},
   "outputs": [],
   "source": [
    "disconnected_line = np.array([])\n",
    "disconnected_gen = np.array([])\n",
    "load_shedding_matrix = np.zeros(2)\n",
    "p1 = re.compile(r\"Line(.*)\\sOvercurrent Relay.ElmRelay\",re.S)\n",
    "p2 = re.compile(r\"SYM(.*)\\sOFGT Relay.ElmRelay\",re.S)\n",
    "p3 = re.compile(r\"SYM(.*)\\sOVGT Relay.ElmRelay\",re.S)\n",
    "p4 = re.compile(r\"Load(.*)\\sUFLS Relay.ElmRelay\",re.S)\n",
    "p5 = re.compile(r\"SYM(.*).ElmSym\",re.S)\n",
    "timep = re.compile(r\"t=(.*)\\ss\",re.S)"
   ]
  },
  {
   "cell_type": "code",
   "execution_count": 51,
   "metadata": {
    "scrolled": true
   },
   "outputs": [
    {
     "name": "stdout",
     "output_type": "stream",
     "text": [
      "Read line:  - Control conditions for all controllers of interest are fulfilled.\n",
      "Read line:  info - Element '   SYM1' is local reference in separated area of '   B1'\n",
      "Read line:  info - Element '   SYM1' is reference in 60.0 Hz-system\n",
      "Read line:  info - (t=-100:000 ms) Initial conditions calculated.\n",
      "Read line:  evt  - (t=01:000 s) Grid\\Line3.ElmLne:\n",
      "Read line:  Short-circuit with Fault Impedance Rf = 0.000001 Ohm Xf = 0.000000 Ohm\n",
      "Read line:  Fault Location: 50.0000 % from 'Grid\\B4.ElmTerm'\n",
      "Read line:  evt  - (t=01:101 s) Grid\\B4\\Cub_1\\Line3 Overcurrent Relay.ElmRelay:\n",
      "Target line: 3\n",
      "Read line:  Relay is tripping. 'Open' signal is sent to the connected breaker(s).\n",
      "Read line:  evt  - (t=01:101 s) Grid\\B4\\Cub_1\\Switch.StaSwitch:\n",
      "Read line:  Circuit-Breaker Action: 'Open' - 'All phases'.\n",
      "Read line:  info - (t=01:101 s) Element '   SYM1' is local reference in separated area of '   B1'\n",
      "Read line:  info - (t=01:101 s) Element '   SYM1' is reference in 60.0 Hz-system\n",
      "Read line:  evt  - (t=01:731 s) -------------------------------------------------------------\n",
      "Read line:  evt  - (t=01:731 s) 'Grid\\SYM2.ElmSym':\n",
      "Read line:  evt  - (t=01:731 s) Generator out of step (pole slip).\n",
      "Read line:  evt  - (t=02:000 s) Grid\\B5\\Cub_1\\Switch.StaSwitch:\n",
      "Read line:  Circuit-Breaker Action: 'Open' - 'All phases'.\n",
      "Read line:  info - (t=02:000 s) Element '   SYM1' is local reference in separated area of '   B1'\n",
      "Read line:  info - (t=02:000 s) Element '   SYM1' is reference in 60.0 Hz-system\n",
      "Read line:  evt  - (t=02:852 s) Grid\\B1\\Cub_2\\SYM1 OFGT Relay.ElmRelay:\n",
      "Target Generator: 1\n",
      "Read line:  Relay is tripping. 'Open' signal is sent to the connected breaker(s).\n",
      "Read line:  evt  - (t=02:852 s) Grid\\B2\\Cub_4\\Load1 UFLS Relay.ElmRelay:\n",
      "Load: 1\n",
      "Read line:  Relay is tripping. 'Open' signal is sent to the connected breaker(s).\n",
      "Read line:  evt  - (t=02:852 s) Grid\\B3\\Cub_2\\Load2 UFLS Relay.ElmRelay:\n",
      "Load: 2\n",
      "Read line:  Relay is tripping. 'Open' signal is sent to the connected breaker(s).\n",
      "Read line:  evt  - (t=02:852 s) Grid\\B3\\Cub_7\\SYM2 OFGT Relay.ElmRelay:\n",
      "Target Generator: 2\n",
      "Read line:  Relay is tripping. 'Open' signal is sent to the connected breaker(s).\n",
      "Read line:  evt  - (t=02:852 s) Grid\\B3\\Cub_2\\Switch.StaSwitch:\n",
      "Read line:  Circuit-Breaker Action: 'Open' - 'All phases'.\n",
      "Read line:  evt  - (t=02:852 s) Grid\\B3\\Cub_7\\Switch.StaSwitch:\n",
      "Read line:  Circuit-Breaker Action: 'Open' - 'All phases'.\n",
      "Read line:  evt  - (t=02:852 s) Grid\\B1\\Cub_2\\Switch.StaSwitch:\n",
      "Read line:  Circuit-Breaker Action: 'Open' - 'All phases'.\n",
      "Read line:  evt  - (t=02:852 s) Grid\\B2\\Cub_4\\Switch.StaSwitch:\n",
      "Read line:  Circuit-Breaker Action: 'Open' - 'All phases'.\n",
      "Read line:  info - (t=02:852 s) Grid split into 3 isolated areas\n",
      "Read line:  evt  - (t=13:665 s) Grid\\B1\\Cub_2\\SYM1 OFGT Relay.ElmRelay:\n",
      "Target Generator: 1\n",
      "Read line:  Relay is tripping. 'Open' signal is sent to the connected breaker(s).\n",
      "Read line:  evt  - (t=13:665 s) Grid\\B2\\Cub_4\\Load1 UFLS Relay.ElmRelay:\n",
      "Load: 1\n",
      "Read line:  Relay is tripping. 'Open' signal is sent to the connected breaker(s).\n",
      "Read line:  evt  - (t=13:665 s) Grid\\B3\\Cub_2\\Load2 UFLS Relay.ElmRelay:\n",
      "Load: 2\n",
      "Read line:  Relay is tripping. 'Open' signal is sent to the connected breaker(s).\n",
      "Read line:  evt  - (t=13:665 s) Grid\\B3\\Cub_7\\SYM2 OFGT Relay.ElmRelay:\n",
      "Target Generator: 2\n",
      "Read line:  Relay is tripping. 'Open' signal is sent to the connected breaker(s).\n",
      "Read line:  evt  - (t=13:665 s) Control Switch Event 'Switch Event(5)' not possible. Breaker already opened.\n",
      "Read line:  evt  - (t=13:665 s) Control Switch Event 'Switch Event(6)' not possible. Breaker already opened.\n",
      "Read line:  evt  - (t=13:665 s) Control Switch Event 'Switch Event(7)' not possible. Breaker already opened.\n",
      "Read line:  evt  - (t=13:665 s) Control Switch Event 'Switch Event(8)' not possible. Breaker already opened.\n",
      "Read line:  info - (t=20:000 s) Simulation successfully executed.\n"
     ]
    },
    {
     "name": "stderr",
     "output_type": "stream",
     "text": [
      "C:\\Users\\68075\\Anaconda3\\envs\\pytorch\\lib\\site-packages\\ipykernel_launcher.py:22: ComplexWarning: Casting complex values to real discards the imaginary part\n"
     ]
    }
   ],
   "source": [
    "f = open('report.txt','r')\n",
    "load_power = [450+217.95j,80+38.75j]\n",
    "shedding_percent = 0.25\n",
    "for line in f.readlines():\n",
    "    temp = line.strip()\n",
    "    print('Read line: ',temp)\n",
    "    if temp.find('Overcurrent Relay.ElmRelay') >= 0:\n",
    "        target_line = int(re.findall(p1,temp)[0])\n",
    "        print('Target line:',target_line)\n",
    "        disconnected_line = np.append(disconnected_line,target_line)\n",
    "    elif temp.find('OFGT Relay.ElmRelay') >= 0:\n",
    "        target_gen = int(re.findall(p2,temp)[0])\n",
    "        print('Target Generator:',target_gen)\n",
    "        disconnected_gen = np.append(disconnected_gen,target_gen)\n",
    "    elif temp.find('OVGT Relay.ElmRelay') >= 0:\n",
    "        target_gen = int(re.findall(p3,temp)[0])\n",
    "        print('Target Generator:',target_gen)\n",
    "        disconnected_gen = np.append(disconnected_gen,target_gen)\n",
    "    elif temp.find('UFLS Relay.ElmRelay') >= 0:\n",
    "        load = int(re.findall(p4,temp)[0])\n",
    "        print('Load:',load)\n",
    "        load_shedding_matrix[load-1] += load_power[load-1]*shedding_percent\n",
    "    elif temp.find('.ElmSym') >= 0:\n",
    "        gen_out_of_step = int(re.findall(p5,temp)[0])\n",
    "    elif temp.find('Generator out of step (pole slip)') >= 0:\n",
    "        disconnected_gen = np.append(disconnected_gen,gen_out_of_step)"
   ]
  },
  {
   "cell_type": "code",
   "execution_count": 52,
   "metadata": {},
   "outputs": [
    {
     "data": {
      "text/plain": [
       "array([3.])"
      ]
     },
     "execution_count": 52,
     "metadata": {},
     "output_type": "execute_result"
    }
   ],
   "source": [
    "disconnected_line"
   ]
  },
  {
   "cell_type": "code",
   "execution_count": 54,
   "metadata": {},
   "outputs": [
    {
     "data": {
      "text/plain": [
       "array([2., 1., 2., 1., 2.])"
      ]
     },
     "execution_count": 54,
     "metadata": {},
     "output_type": "execute_result"
    }
   ],
   "source": [
    "disconnected_gen"
   ]
  },
  {
   "cell_type": "code",
   "execution_count": 55,
   "metadata": {},
   "outputs": [
    {
     "data": {
      "text/plain": [
       "array([225.,  40.])"
      ]
     },
     "execution_count": 55,
     "metadata": {},
     "output_type": "execute_result"
    }
   ],
   "source": [
    "load_shedding_matrix"
   ]
  },
  {
   "cell_type": "code",
   "execution_count": 2,
   "metadata": {},
   "outputs": [
    {
     "name": "stdout",
     "output_type": "stream",
     "text": [
      "Collecting xlrd\n",
      "  Using cached https://files.pythonhosted.org/packages/a6/0c/c2a72d51fe56e08a08acc85d13013558a2d793028ae7385448a6ccdfae64/xlrd-2.0.1-py2.py3-none-any.whl\n",
      "Installing collected packages: xlrd\n",
      "Successfully installed xlrd-2.0.1\n",
      "Note: you may need to restart the kernel to use updated packages.\n"
     ]
    }
   ],
   "source": [
    "pip install xlrd"
   ]
  },
  {
   "cell_type": "code",
   "execution_count": 3,
   "metadata": {},
   "outputs": [],
   "source": [
    "import csv\n",
    "import re\n",
    "import Excel\n",
    "import Matching\n",
    "import xlrd\n",
    "import numpy as np\n",
    "# import Matlab"
   ]
  },
  {
   "cell_type": "code",
   "execution_count": 2,
   "metadata": {},
   "outputs": [],
   "source": [
    "p1 = re.compile(r'[=](.*?)[)]', re.S) # (t = 1 s)\n",
    "p2 = re.compile(r\"Grid split into (.*)\", re.S) # Grid split into 3 isolated areas\n",
    "p3 = re.compile(r\"Grid\\\\(.*).ElmLne\", re.S) # Grid\\Line3.ElmLne\n",
    "p4 = re.compile(r\"Grid\\\\Line(.*)[-](.*).ElmLne\", re.S)\n",
    "p5 = re.compile(r\"Grid\\\\B(.*)\\\\Cub_\", re.S) # Grid\\B2\\Cub_4\n",
    "p6 = re.compile(r\"Element (.*) is local reference\", re.S) # Element 'SYM1' is local reference'\n",
    "p7 = re.compile(r\"  1 (.*)\", re.S)\n",
    "p8 = re.compile(r\"Grid\\\\(.*).ElmSym\", re.S) # 'Grid\\SYM2.ElmSym\n",
    "p9 = re.compile(r\"Step: (.*)[)]\", re.S)\n",
    "p10 = re.compile(r\"\\\\Cub_(.*)\\\\Switch\", re.S) # Grid\\B2\\Cub_4\\Switch.StaSwitch\n",
    "p11 = re.compile(r\"G (.*)\", re.S)"
   ]
  },
  {
   "cell_type": "code",
   "execution_count": 8,
   "metadata": {},
   "outputs": [
    {
     "name": "stdout",
     "output_type": "stream",
     "text": [
      "Read line:  - Control conditions for all controllers of interest are fulfilled.\n",
      "Read line:  info - Element '   SYM1' is local reference in separated area of '   B1'\n",
      "Read line:  info - Element '   SYM1' is reference in 60.0 Hz-system\n",
      "Read line:  info - (t=-100:000 ms) Initial conditions calculated.\n",
      "Read line:  evt  - (t=01:000 s) Grid\\Line3.ElmLne:\n",
      "Read line:  Short-circuit with Fault Impedance Rf = 0.000001 Ohm Xf = 0.000000 Ohm\n",
      "Read line:  Fault Location: 50.0000 % from 'Grid\\B4.ElmTerm'\n",
      "Read line:  evt  - (t=01:101 s) Grid\\B4\\Cub_1\\Line3 Overcurrent Relay.ElmRelay:\n",
      "Read line:  Relay is tripping. 'Open' signal is sent to the connected breaker(s).\n",
      "Read line:  evt  - (t=01:101 s) Grid\\B4\\Cub_1\\Switch.StaSwitch:\n",
      "Read line:  Circuit-Breaker Action: 'Open' - 'All phases'.\n",
      "Read line:  info - (t=01:101 s) Element '   SYM1' is local reference in separated area of '   B1'\n",
      "Read line:  info - (t=01:101 s) Element '   SYM1' is reference in 60.0 Hz-system\n",
      "Read line:  evt  - (t=01:731 s) -------------------------------------------------------------\n",
      "Read line:  evt  - (t=01:731 s) 'Grid\\SYM2.ElmSym':\n",
      "SYM event\n",
      "Read line:  evt  - (t=01:731 s) Generator out of step (pole slip).\n",
      "out of step\n",
      "Read line:  evt  - (t=02:000 s) Grid\\B5\\Cub_1\\Switch.StaSwitch:\n",
      "Read line:  Circuit-Breaker Action: 'Open' - 'All phases'.\n",
      "Read line:  info - (t=02:000 s) Element '   SYM1' is local reference in separated area of '   B1'\n",
      "Read line:  info - (t=02:000 s) Element '   SYM1' is reference in 60.0 Hz-system\n",
      "Read line:  evt  - (t=02:852 s) Grid\\B1\\Cub_2\\SYM1 OFGT Relay.ElmRelay:\n",
      "Read line:  Relay is tripping. 'Open' signal is sent to the connected breaker(s).\n",
      "Read line:  evt  - (t=02:852 s) Grid\\B2\\Cub_4\\Load1 UFLS Relay.ElmRelay:\n",
      "Read line:  Relay is tripping. 'Open' signal is sent to the connected breaker(s).\n",
      "Read line:  evt  - (t=02:852 s) Grid\\B3\\Cub_2\\Load2 UFLS Relay.ElmRelay:\n",
      "Read line:  Relay is tripping. 'Open' signal is sent to the connected breaker(s).\n",
      "Read line:  evt  - (t=02:852 s) Grid\\B3\\Cub_7\\SYM2 OFGT Relay.ElmRelay:\n",
      "Read line:  Relay is tripping. 'Open' signal is sent to the connected breaker(s).\n",
      "Read line:  evt  - (t=02:852 s) Grid\\B3\\Cub_2\\Switch.StaSwitch:\n",
      "Read line:  Circuit-Breaker Action: 'Open' - 'All phases'.\n",
      "Read line:  evt  - (t=02:852 s) Grid\\B3\\Cub_7\\Switch.StaSwitch:\n",
      "Read line:  Circuit-Breaker Action: 'Open' - 'All phases'.\n",
      "Read line:  evt  - (t=02:852 s) Grid\\B1\\Cub_2\\Switch.StaSwitch:\n",
      "Read line:  Circuit-Breaker Action: 'Open' - 'All phases'.\n",
      "Read line:  evt  - (t=02:852 s) Grid\\B2\\Cub_4\\Switch.StaSwitch:\n",
      "Read line:  Circuit-Breaker Action: 'Open' - 'All phases'.\n",
      "Read line:  info - (t=02:852 s) Grid split into 3 isolated areas\n",
      "Read line:  evt  - (t=13:665 s) Grid\\B1\\Cub_2\\SYM1 OFGT Relay.ElmRelay:\n",
      "Read line:  Relay is tripping. 'Open' signal is sent to the connected breaker(s).\n",
      "Read line:  evt  - (t=13:665 s) Grid\\B2\\Cub_4\\Load1 UFLS Relay.ElmRelay:\n",
      "Read line:  Relay is tripping. 'Open' signal is sent to the connected breaker(s).\n",
      "Read line:  evt  - (t=13:665 s) Grid\\B3\\Cub_2\\Load2 UFLS Relay.ElmRelay:\n",
      "Read line:  Relay is tripping. 'Open' signal is sent to the connected breaker(s).\n",
      "Read line:  evt  - (t=13:665 s) Grid\\B3\\Cub_7\\SYM2 OFGT Relay.ElmRelay:\n",
      "Read line:  Relay is tripping. 'Open' signal is sent to the connected breaker(s).\n",
      "Read line:  evt  - (t=13:665 s) Control Switch Event 'Switch Event(5)' not possible. Breaker already opened.\n",
      "Read line:  evt  - (t=13:665 s) Control Switch Event 'Switch Event(6)' not possible. Breaker already opened.\n",
      "Read line:  evt  - (t=13:665 s) Control Switch Event 'Switch Event(7)' not possible. Breaker already opened.\n",
      "Read line:  evt  - (t=13:665 s) Control Switch Event 'Switch Event(8)' not possible. Breaker already opened.\n",
      "Read line:  info - (t=20:000 s) Simulation successfully executed.\n"
     ]
    }
   ],
   "source": [
    "# Global variables\n",
    "count = 0\n",
    "flag = 0\n",
    "flag2 = 3\n",
    "Cub1 = \"\"\n",
    "Comp1 = \"\"\n",
    "Name_of_Local_Reference2 = \"\"\n",
    "Switch_Event1 = \"\"\n",
    "Unsupplied_Areas1 = \"\"\n",
    "State_of_Logic1 = \"\"\n",
    "Targeted_Load2 = \"\"\n",
    "Percent_of_Shedding1 = \"\"\n",
    "Amount_of_Load_Shedding = 0.0\n",
    "Amount_of_Load_Shedding1 = 0.0\n",
    "Amount_of_Load_Shedding2 = 0.0\n",
    "faulty_line = []\n",
    "faulty_node_overfreq = []\n",
    "faulty_node_underfreq = []\n",
    "tripped_line = []\n",
    "tripped_node_overfreq = []\n",
    "tripped_node_underfreq = []\n",
    "tripped_load = []\n",
    "tripped_LS_balance = []\n",
    "tripped_LS_tripped_gen = []\n",
    "tripped_LS_tripped_load = []\n",
    "tripped_LS_unsupplied = []\n",
    "failed_matrix = []\n",
    "faulty_matrix = []\n",
    "OutOfStep = []\n",
    "State_of_generator = \"\"\n",
    "amount_of_shedding= [0, 0, 0, 0, 0, 0, 0, 0, 0, 0, 0, 0, 0, 0, 0, 0, 0, 0, 0]\n",
    "j = 0\n",
    "i = 0\n",
    "\n",
    "# Active Power of Loads\n",
    "# Loads = Excel.read_excel('IEEE39_Parameters.xlsx', 'Load Parameters', 8, 26, 1, 3, 1.0)\n",
    "# load_power = [450+217.95j,80+38.75j]\n",
    "target_load = [450+217.95j,80+38.75j]\n",
    "\n",
    "# create empty matrix of 512*1 - 12*1\n",
    "data = [[''], [''], [''], [''], [''], [''],[''], [''], [''], [''], [''], ['']]\n",
    "\n",
    "name = 'table.csv'\n",
    "input = 'report.txt'\n",
    "with open(name, 'w', newline='') as csvfile:\n",
    "    writer = csv.writer(csvfile)\n",
    "    f = open(input, 'r')\n",
    "    for line in f.readlines():\n",
    "        temp = line.strip()\n",
    "        print('Read line: ',temp)\n",
    "        if temp.find('.ElmSym') >= 0:\n",
    "            Comp = re.findall(p8, temp)\n",
    "            Comp1 = \"\".join(Comp)\n",
    "            print('SYM event')\n",
    "        elif temp.find('Generator out of step (pole slip)') >= 0:\n",
    "            t = re.findall(p1, temp)\n",
    "            t1 = \"\".join(t)\n",
    "            data[i].extend([t1, Comp1, 'Out of step', '', ''])\n",
    "            i = i + 1\n",
    "            Comp1 = \"\"\n",
    "            print('out of step')\n",
    "#         elif temp.find('Outage Event: Element set to out of service') >= 0:\n",
    "#             Name_of_Local_Reference2 = \"\"\n",
    "#             Unsupplied_Areas1 = \"\"\n",
    "#             t = re.findall(p1, temp)\n",
    "#             t1 = \"\".join(t)\n",
    "#             Trip_of_generator = \"\"\n",
    "#             if Comp1 != \"\" :\n",
    "#                 if Comp1.find(\"(\") == -1 :\n",
    "#                     gen = re.findall(p11, Comp1)\n",
    "#                     gen1 = \"\".join(gen)\n",
    "#                     name = Comp1 \n",
    "#                     State_of_generator = '>360 tripped'\n",
    "#                     Trip_of_generator = Comp1 + ' All tripped'\n",
    "#                     faulty_node_overfreq.append(Matching.MatchingGen_IEEE39(gen1))\n",
    "#                 else :\n",
    "#                     name = Comp1 \n",
    "#                     State_of_generator = '>360 tripped'\n",
    "#                     Trip_of_generator = \"\"\n",
    "#                 data[i].extend([t1, name, State_of_generator, Trip_of_generator, ''])\n",
    "#                 i = i + 1\n",
    "#                 Comp1 = \"\"\n",
    "        elif temp.find('.ElmLne') >= 0:\n",
    "            t = re.findall(p1, temp)\n",
    "            t1 = \"\".join(t)\n",
    "            Comp1 = \"\"\n",
    "            if temp.find('evt  -') >= 0:\n",
    "                Line_Outage = re.findall(p3, temp)\n",
    "                Line_Outage1 = \"\".join(Line_Outage)\n",
    "                Switch_Event = re.findall(p4, temp)\n",
    "                Switch_Event1 = \" \".join(Switch_Event[0])\n",
    "                Switch_Event2 = Switch_Event1.split(' ')\n",
    "                row = Matching.Base(Switch_Event2[0], Switch_Event2[1])\n",
    "                faulty_line.append(row)\n",
    "                data[i].extend([t1, Line_Outage1, row, '', ''])\n",
    "                i = i + 1"
   ]
  },
  {
   "cell_type": "code",
   "execution_count": 9,
   "metadata": {},
   "outputs": [
    {
     "data": {
      "text/plain": [
       "[['', '01:731 s', 'SYM2', 'Out of step', '', ''], [''], [''], [''], [''], ['']]"
      ]
     },
     "execution_count": 9,
     "metadata": {},
     "output_type": "execute_result"
    }
   ],
   "source": [
    "data"
   ]
  },
  {
   "cell_type": "code",
   "execution_count": null,
   "metadata": {},
   "outputs": [],
   "source": []
  }
 ],
 "metadata": {
  "interpreter": {
   "hash": "9d545eeea648fde0756814f47a67c4062524c75743e6643d351c2066090f5a7a"
  },
  "kernelspec": {
   "display_name": "python pytorch",
   "language": "python",
   "name": "python3"
  },
  "language_info": {
   "codemirror_mode": {
    "name": "ipython",
    "version": 3
   },
   "file_extension": ".py",
   "mimetype": "text/x-python",
   "name": "python",
   "nbconvert_exporter": "python",
   "pygments_lexer": "ipython3",
   "version": "3.7.3"
  }
 },
 "nbformat": 4,
 "nbformat_minor": 2
}
